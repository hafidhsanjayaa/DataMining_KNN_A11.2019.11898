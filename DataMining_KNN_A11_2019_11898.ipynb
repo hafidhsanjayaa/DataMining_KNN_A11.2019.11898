{
  "nbformat": 4,
  "nbformat_minor": 0,
  "metadata": {
    "colab": {
      "name": "DataMining_KNN_A11.2019.11898.ipynb",
      "provenance": []
    },
    "kernelspec": {
      "name": "python3",
      "display_name": "Python 3"
    },
    "language_info": {
      "name": "python"
    }
  },
  "cells": [
    {
      "cell_type": "code",
      "execution_count": 1,
      "metadata": {
        "id": "oOpjAcrXTdYv"
      },
      "outputs": [],
      "source": [
        "import numpy as np\n",
        "import matplotlib.pyplot as plt\n",
        "import pandas as pd"
      ]
    },
    {
      "cell_type": "code",
      "source": [
        "dataset = pd.read_excel('data testing.xlsx')\n",
        "dataset.head(24)"
      ],
      "metadata": {
        "colab": {
          "base_uri": "https://localhost:8080/",
          "height": 802
        },
        "id": "SiWhwj5OUOGV",
        "outputId": "2726de7d-18a2-4152-f256-a6fa50e21fe8"
      },
      "execution_count": 18,
      "outputs": [
        {
          "output_type": "execute_result",
          "data": {
            "text/plain": [
              "      NAMA  Umur Kelamin     Gaji  Tahun Mulai Bekerja  Jumlah Anak\n",
              "0     Reza    22       L  2400000                 2021            1\n",
              "1    Vicky    24       L  3000000                 2023            2\n",
              "2     Abid    22       L  3000000                 2021            1\n",
              "3    Rafly    21       L  5000000                 2021            1\n",
              "4    Iqbal    24       L  2400000                 2021            1\n",
              "5    Hafid    20       L  5000000                 2021            2\n",
              "6    Putri    20       P  5000000                 2023            1\n",
              "7     Koko    28       L  3000000                 2023            1\n",
              "8     Jaya    22       L  2400000                 2021            1\n",
              "9    Bella    23       P  5000000                 2021            2\n",
              "10   Salsa    20       P  3000000                 2020            1\n",
              "11   Cicil    25       P  3000000                 2023            4\n",
              "12   Yolam    27       L  2400000                 2020            3\n",
              "13    Elga    27       L  3000000                 2023            2\n",
              "14     tri    28       P  3000000                 2021            2\n",
              "15    neza    23       P  2400000                 2021            2\n",
              "16   fajar    21       L  3000000                 2021            2\n",
              "17  naufal    21       L  2400000                 2020            4\n",
              "18     aji    21       L  5000000                 2020            4\n",
              "19  lathif    22       L  6700000                 2021            1\n",
              "20    yoga    24       L  3000000                 2021            1\n",
              "21    beni    29       P  6700000                 2021            2\n",
              "22    adam    29       L  3000000                 2021            1\n",
              "23   Bagas    27       L  2400000                 2020            4"
            ],
            "text/html": [
              "\n",
              "  <div id=\"df-345ffc98-ecbd-4c2f-bf98-ab13cfc95d5f\">\n",
              "    <div class=\"colab-df-container\">\n",
              "      <div>\n",
              "<style scoped>\n",
              "    .dataframe tbody tr th:only-of-type {\n",
              "        vertical-align: middle;\n",
              "    }\n",
              "\n",
              "    .dataframe tbody tr th {\n",
              "        vertical-align: top;\n",
              "    }\n",
              "\n",
              "    .dataframe thead th {\n",
              "        text-align: right;\n",
              "    }\n",
              "</style>\n",
              "<table border=\"1\" class=\"dataframe\">\n",
              "  <thead>\n",
              "    <tr style=\"text-align: right;\">\n",
              "      <th></th>\n",
              "      <th>NAMA</th>\n",
              "      <th>Umur</th>\n",
              "      <th>Kelamin</th>\n",
              "      <th>Gaji</th>\n",
              "      <th>Tahun Mulai Bekerja</th>\n",
              "      <th>Jumlah Anak</th>\n",
              "    </tr>\n",
              "  </thead>\n",
              "  <tbody>\n",
              "    <tr>\n",
              "      <th>0</th>\n",
              "      <td>Reza</td>\n",
              "      <td>22</td>\n",
              "      <td>L</td>\n",
              "      <td>2400000</td>\n",
              "      <td>2021</td>\n",
              "      <td>1</td>\n",
              "    </tr>\n",
              "    <tr>\n",
              "      <th>1</th>\n",
              "      <td>Vicky</td>\n",
              "      <td>24</td>\n",
              "      <td>L</td>\n",
              "      <td>3000000</td>\n",
              "      <td>2023</td>\n",
              "      <td>2</td>\n",
              "    </tr>\n",
              "    <tr>\n",
              "      <th>2</th>\n",
              "      <td>Abid</td>\n",
              "      <td>22</td>\n",
              "      <td>L</td>\n",
              "      <td>3000000</td>\n",
              "      <td>2021</td>\n",
              "      <td>1</td>\n",
              "    </tr>\n",
              "    <tr>\n",
              "      <th>3</th>\n",
              "      <td>Rafly</td>\n",
              "      <td>21</td>\n",
              "      <td>L</td>\n",
              "      <td>5000000</td>\n",
              "      <td>2021</td>\n",
              "      <td>1</td>\n",
              "    </tr>\n",
              "    <tr>\n",
              "      <th>4</th>\n",
              "      <td>Iqbal</td>\n",
              "      <td>24</td>\n",
              "      <td>L</td>\n",
              "      <td>2400000</td>\n",
              "      <td>2021</td>\n",
              "      <td>1</td>\n",
              "    </tr>\n",
              "    <tr>\n",
              "      <th>5</th>\n",
              "      <td>Hafid</td>\n",
              "      <td>20</td>\n",
              "      <td>L</td>\n",
              "      <td>5000000</td>\n",
              "      <td>2021</td>\n",
              "      <td>2</td>\n",
              "    </tr>\n",
              "    <tr>\n",
              "      <th>6</th>\n",
              "      <td>Putri</td>\n",
              "      <td>20</td>\n",
              "      <td>P</td>\n",
              "      <td>5000000</td>\n",
              "      <td>2023</td>\n",
              "      <td>1</td>\n",
              "    </tr>\n",
              "    <tr>\n",
              "      <th>7</th>\n",
              "      <td>Koko</td>\n",
              "      <td>28</td>\n",
              "      <td>L</td>\n",
              "      <td>3000000</td>\n",
              "      <td>2023</td>\n",
              "      <td>1</td>\n",
              "    </tr>\n",
              "    <tr>\n",
              "      <th>8</th>\n",
              "      <td>Jaya</td>\n",
              "      <td>22</td>\n",
              "      <td>L</td>\n",
              "      <td>2400000</td>\n",
              "      <td>2021</td>\n",
              "      <td>1</td>\n",
              "    </tr>\n",
              "    <tr>\n",
              "      <th>9</th>\n",
              "      <td>Bella</td>\n",
              "      <td>23</td>\n",
              "      <td>P</td>\n",
              "      <td>5000000</td>\n",
              "      <td>2021</td>\n",
              "      <td>2</td>\n",
              "    </tr>\n",
              "    <tr>\n",
              "      <th>10</th>\n",
              "      <td>Salsa</td>\n",
              "      <td>20</td>\n",
              "      <td>P</td>\n",
              "      <td>3000000</td>\n",
              "      <td>2020</td>\n",
              "      <td>1</td>\n",
              "    </tr>\n",
              "    <tr>\n",
              "      <th>11</th>\n",
              "      <td>Cicil</td>\n",
              "      <td>25</td>\n",
              "      <td>P</td>\n",
              "      <td>3000000</td>\n",
              "      <td>2023</td>\n",
              "      <td>4</td>\n",
              "    </tr>\n",
              "    <tr>\n",
              "      <th>12</th>\n",
              "      <td>Yolam</td>\n",
              "      <td>27</td>\n",
              "      <td>L</td>\n",
              "      <td>2400000</td>\n",
              "      <td>2020</td>\n",
              "      <td>3</td>\n",
              "    </tr>\n",
              "    <tr>\n",
              "      <th>13</th>\n",
              "      <td>Elga</td>\n",
              "      <td>27</td>\n",
              "      <td>L</td>\n",
              "      <td>3000000</td>\n",
              "      <td>2023</td>\n",
              "      <td>2</td>\n",
              "    </tr>\n",
              "    <tr>\n",
              "      <th>14</th>\n",
              "      <td>tri</td>\n",
              "      <td>28</td>\n",
              "      <td>P</td>\n",
              "      <td>3000000</td>\n",
              "      <td>2021</td>\n",
              "      <td>2</td>\n",
              "    </tr>\n",
              "    <tr>\n",
              "      <th>15</th>\n",
              "      <td>neza</td>\n",
              "      <td>23</td>\n",
              "      <td>P</td>\n",
              "      <td>2400000</td>\n",
              "      <td>2021</td>\n",
              "      <td>2</td>\n",
              "    </tr>\n",
              "    <tr>\n",
              "      <th>16</th>\n",
              "      <td>fajar</td>\n",
              "      <td>21</td>\n",
              "      <td>L</td>\n",
              "      <td>3000000</td>\n",
              "      <td>2021</td>\n",
              "      <td>2</td>\n",
              "    </tr>\n",
              "    <tr>\n",
              "      <th>17</th>\n",
              "      <td>naufal</td>\n",
              "      <td>21</td>\n",
              "      <td>L</td>\n",
              "      <td>2400000</td>\n",
              "      <td>2020</td>\n",
              "      <td>4</td>\n",
              "    </tr>\n",
              "    <tr>\n",
              "      <th>18</th>\n",
              "      <td>aji</td>\n",
              "      <td>21</td>\n",
              "      <td>L</td>\n",
              "      <td>5000000</td>\n",
              "      <td>2020</td>\n",
              "      <td>4</td>\n",
              "    </tr>\n",
              "    <tr>\n",
              "      <th>19</th>\n",
              "      <td>lathif</td>\n",
              "      <td>22</td>\n",
              "      <td>L</td>\n",
              "      <td>6700000</td>\n",
              "      <td>2021</td>\n",
              "      <td>1</td>\n",
              "    </tr>\n",
              "    <tr>\n",
              "      <th>20</th>\n",
              "      <td>yoga</td>\n",
              "      <td>24</td>\n",
              "      <td>L</td>\n",
              "      <td>3000000</td>\n",
              "      <td>2021</td>\n",
              "      <td>1</td>\n",
              "    </tr>\n",
              "    <tr>\n",
              "      <th>21</th>\n",
              "      <td>beni</td>\n",
              "      <td>29</td>\n",
              "      <td>P</td>\n",
              "      <td>6700000</td>\n",
              "      <td>2021</td>\n",
              "      <td>2</td>\n",
              "    </tr>\n",
              "    <tr>\n",
              "      <th>22</th>\n",
              "      <td>adam</td>\n",
              "      <td>29</td>\n",
              "      <td>L</td>\n",
              "      <td>3000000</td>\n",
              "      <td>2021</td>\n",
              "      <td>1</td>\n",
              "    </tr>\n",
              "    <tr>\n",
              "      <th>23</th>\n",
              "      <td>Bagas</td>\n",
              "      <td>27</td>\n",
              "      <td>L</td>\n",
              "      <td>2400000</td>\n",
              "      <td>2020</td>\n",
              "      <td>4</td>\n",
              "    </tr>\n",
              "  </tbody>\n",
              "</table>\n",
              "</div>\n",
              "      <button class=\"colab-df-convert\" onclick=\"convertToInteractive('df-345ffc98-ecbd-4c2f-bf98-ab13cfc95d5f')\"\n",
              "              title=\"Convert this dataframe to an interactive table.\"\n",
              "              style=\"display:none;\">\n",
              "        \n",
              "  <svg xmlns=\"http://www.w3.org/2000/svg\" height=\"24px\"viewBox=\"0 0 24 24\"\n",
              "       width=\"24px\">\n",
              "    <path d=\"M0 0h24v24H0V0z\" fill=\"none\"/>\n",
              "    <path d=\"M18.56 5.44l.94 2.06.94-2.06 2.06-.94-2.06-.94-.94-2.06-.94 2.06-2.06.94zm-11 1L8.5 8.5l.94-2.06 2.06-.94-2.06-.94L8.5 2.5l-.94 2.06-2.06.94zm10 10l.94 2.06.94-2.06 2.06-.94-2.06-.94-.94-2.06-.94 2.06-2.06.94z\"/><path d=\"M17.41 7.96l-1.37-1.37c-.4-.4-.92-.59-1.43-.59-.52 0-1.04.2-1.43.59L10.3 9.45l-7.72 7.72c-.78.78-.78 2.05 0 2.83L4 21.41c.39.39.9.59 1.41.59.51 0 1.02-.2 1.41-.59l7.78-7.78 2.81-2.81c.8-.78.8-2.07 0-2.86zM5.41 20L4 18.59l7.72-7.72 1.47 1.35L5.41 20z\"/>\n",
              "  </svg>\n",
              "      </button>\n",
              "      \n",
              "  <style>\n",
              "    .colab-df-container {\n",
              "      display:flex;\n",
              "      flex-wrap:wrap;\n",
              "      gap: 12px;\n",
              "    }\n",
              "\n",
              "    .colab-df-convert {\n",
              "      background-color: #E8F0FE;\n",
              "      border: none;\n",
              "      border-radius: 50%;\n",
              "      cursor: pointer;\n",
              "      display: none;\n",
              "      fill: #1967D2;\n",
              "      height: 32px;\n",
              "      padding: 0 0 0 0;\n",
              "      width: 32px;\n",
              "    }\n",
              "\n",
              "    .colab-df-convert:hover {\n",
              "      background-color: #E2EBFA;\n",
              "      box-shadow: 0px 1px 2px rgba(60, 64, 67, 0.3), 0px 1px 3px 1px rgba(60, 64, 67, 0.15);\n",
              "      fill: #174EA6;\n",
              "    }\n",
              "\n",
              "    [theme=dark] .colab-df-convert {\n",
              "      background-color: #3B4455;\n",
              "      fill: #D2E3FC;\n",
              "    }\n",
              "\n",
              "    [theme=dark] .colab-df-convert:hover {\n",
              "      background-color: #434B5C;\n",
              "      box-shadow: 0px 1px 3px 1px rgba(0, 0, 0, 0.15);\n",
              "      filter: drop-shadow(0px 1px 2px rgba(0, 0, 0, 0.3));\n",
              "      fill: #FFFFFF;\n",
              "    }\n",
              "  </style>\n",
              "\n",
              "      <script>\n",
              "        const buttonEl =\n",
              "          document.querySelector('#df-345ffc98-ecbd-4c2f-bf98-ab13cfc95d5f button.colab-df-convert');\n",
              "        buttonEl.style.display =\n",
              "          google.colab.kernel.accessAllowed ? 'block' : 'none';\n",
              "\n",
              "        async function convertToInteractive(key) {\n",
              "          const element = document.querySelector('#df-345ffc98-ecbd-4c2f-bf98-ab13cfc95d5f');\n",
              "          const dataTable =\n",
              "            await google.colab.kernel.invokeFunction('convertToInteractive',\n",
              "                                                     [key], {});\n",
              "          if (!dataTable) return;\n",
              "\n",
              "          const docLinkHtml = 'Like what you see? Visit the ' +\n",
              "            '<a target=\"_blank\" href=https://colab.research.google.com/notebooks/data_table.ipynb>data table notebook</a>'\n",
              "            + ' to learn more about interactive tables.';\n",
              "          element.innerHTML = '';\n",
              "          dataTable['output_type'] = 'display_data';\n",
              "          await google.colab.output.renderOutput(dataTable, element);\n",
              "          const docLink = document.createElement('div');\n",
              "          docLink.innerHTML = docLinkHtml;\n",
              "          element.appendChild(docLink);\n",
              "        }\n",
              "      </script>\n",
              "    </div>\n",
              "  </div>\n",
              "  "
            ]
          },
          "metadata": {},
          "execution_count": 18
        }
      ]
    },
    {
      "cell_type": "code",
      "source": [
        "x = dataset.iloc [:, [1,3]].values\n",
        "y = dataset.iloc [:, -1 ].values\n",
        "print(x)\n",
        "print(y)"
      ],
      "metadata": {
        "colab": {
          "base_uri": "https://localhost:8080/"
        },
        "id": "Q24LKveJUl0m",
        "outputId": "45a4c324-5e96-4d81-b569-4e6363c28910"
      },
      "execution_count": 12,
      "outputs": [
        {
          "output_type": "stream",
          "name": "stdout",
          "text": [
            "[[     22 2400000]\n",
            " [     24 3000000]\n",
            " [     22 3000000]\n",
            " [     21 5000000]\n",
            " [     24 2400000]\n",
            " [     20 5000000]\n",
            " [     20 5000000]\n",
            " [     28 3000000]\n",
            " [     22 2400000]\n",
            " [     23 5000000]\n",
            " [     20 3000000]\n",
            " [     25 3000000]\n",
            " [     27 2400000]\n",
            " [     27 3000000]\n",
            " [     28 3000000]\n",
            " [     23 2400000]\n",
            " [     21 3000000]\n",
            " [     21 2400000]\n",
            " [     21 5000000]\n",
            " [     22 6700000]\n",
            " [     24 3000000]\n",
            " [     29 6700000]\n",
            " [     29 3000000]\n",
            " [     27 2400000]]\n",
            "[1 2 1 1 1 2 1 1 1 2 1 4 3 2 2 2 2 4 4 1 1 2 1 4]\n"
          ]
        }
      ]
    },
    {
      "cell_type": "code",
      "source": [
        "from sklearn.model_selection import train_test_split\n",
        "x_train, x_test, y_train, y_test = train_test_split(x, y, test_size=0.25, random_state=0)\n",
        "print(x_train)\n",
        "len(x_train)\n",
        "len(x)\n",
        "len(x_test)\n",
        "len(y)\n",
        "len(y_test)\n",
        "len(y_train)"
      ],
      "metadata": {
        "colab": {
          "base_uri": "https://localhost:8080/"
        },
        "id": "WOL3r1fEU-rP",
        "outputId": "4b5ad338-e3e0-416f-d1e9-c8da3d688c73"
      },
      "execution_count": 13,
      "outputs": [
        {
          "output_type": "stream",
          "name": "stdout",
          "text": [
            "[[     27 3000000]\n",
            " [     27 2400000]\n",
            " [     21 3000000]\n",
            " [     22 2400000]\n",
            " [     20 5000000]\n",
            " [     21 2400000]\n",
            " [     24 2400000]\n",
            " [     22 3000000]\n",
            " [     20 5000000]\n",
            " [     21 5000000]\n",
            " [     23 5000000]\n",
            " [     28 3000000]\n",
            " [     22 6700000]\n",
            " [     21 5000000]\n",
            " [     22 2400000]\n",
            " [     29 6700000]\n",
            " [     23 2400000]\n",
            " [     27 2400000]]\n"
          ]
        },
        {
          "output_type": "execute_result",
          "data": {
            "text/plain": [
              "18"
            ]
          },
          "metadata": {},
          "execution_count": 13
        }
      ]
    },
    {
      "cell_type": "code",
      "source": [
        "from sklearn.preprocessing import StandardScaler\n",
        "sc = StandardScaler()\n",
        "x_train = sc.fit_transform(x_train)\n",
        "x_test = sc.transform(x_test)\n",
        "print(x_train)"
      ],
      "metadata": {
        "colab": {
          "base_uri": "https://localhost:8080/"
        },
        "id": "Y5wKIopWVI7t",
        "outputId": "ff8d7000-083b-4a57-84ac-228d41887b73"
      },
      "execution_count": 14,
      "outputs": [
        {
          "output_type": "stream",
          "name": "stdout",
          "text": [
            "[[ 1.28745262 -0.49058769]\n",
            " [ 1.28745262 -0.89197762]\n",
            " [-0.81928803 -0.49058769]\n",
            " [-0.46816459 -0.89197762]\n",
            " [-1.17041147  0.84737874]\n",
            " [-0.81928803 -0.89197762]\n",
            " [ 0.23408229 -0.89197762]\n",
            " [-0.46816459 -0.49058769]\n",
            " [-1.17041147  0.84737874]\n",
            " [-0.81928803  0.84737874]\n",
            " [-0.11704115  0.84737874]\n",
            " [ 1.63857606 -0.49058769]\n",
            " [-0.46816459  1.9846502 ]\n",
            " [-0.81928803  0.84737874]\n",
            " [-0.46816459 -0.89197762]\n",
            " [ 1.9896995   1.9846502 ]\n",
            " [-0.11704115 -0.89197762]\n",
            " [ 1.28745262 -0.89197762]]\n"
          ]
        }
      ]
    },
    {
      "cell_type": "code",
      "source": [
        "from sklearn.neighbors import KNeighborsClassifier\n",
        "classifier = KNeighborsClassifier(n_neighbors = 5, metric = 'minkowski', p=2)\n",
        "classifier.fit(x_train, y_train)\n",
        "y_pred = classifier.predict(x_test)\n",
        "from sklearn.metrics import confusion_matrix\n",
        "cm = confusion_matrix(y_test, y_pred)\n",
        "print(cm)"
      ],
      "metadata": {
        "colab": {
          "base_uri": "https://localhost:8080/"
        },
        "id": "1AMHcmNGVNaD",
        "outputId": "cdb8bd12-8c61-4d6e-c559-60fcc6f6f3c0"
      },
      "execution_count": 15,
      "outputs": [
        {
          "output_type": "stream",
          "name": "stdout",
          "text": [
            "[[3 0 0]\n",
            " [2 0 0]\n",
            " [0 1 0]]\n"
          ]
        }
      ]
    },
    {
      "cell_type": "code",
      "source": [
        "from matplotlib.colors import ListedColormap\n",
        "x_set, y_set = x_train, y_train\n",
        "x1, x2 = np.meshgrid(np.arange(start = x_set[:, 0].min()-1, stop = x_set[:, 0].max() + 1, step=0.01),\n",
        "                        np.arange(start = x_set[:, 1].min()-1, stop = x_set[:, 0].max() + 1, step=0.01))\n",
        "plt.contourf(x1,x2, classifier.predict(np.array([x1.ravel(), x2.ravel()]).T).reshape(x1.shape),\n",
        "alpha = 0.75, cmap = ListedColormap(('blue','red')))\n",
        "plt.xlim(x1.min(), x1.max())\n",
        "plt.ylim(x2.min(), x2.max())\n",
        "for i, j in enumerate(np.unique(y_set)):\n",
        "    plt.scatter(x_set[y_set == j, 0], x_set[y_set==j,1],\n",
        "    c = ListedColormap(('blue', 'red'))(i), label = j)\n",
        "plt.title('Klasifikasi Data dengan K-NN (Training set)')\n",
        "plt.xlabel('Umur')\n",
        "plt.ylabel('Gaji')\n",
        "plt.legend()\n",
        "plt.show()"
      ],
      "metadata": {
        "colab": {
          "base_uri": "https://localhost:8080/",
          "height": 385
        },
        "id": "-aGOLgvFVXKm",
        "outputId": "cad60642-ccb3-4092-9598-7b8e75a9608d"
      },
      "execution_count": 16,
      "outputs": [
        {
          "output_type": "stream",
          "name": "stderr",
          "text": [
            "*c* argument looks like a single numeric RGB or RGBA sequence, which should be avoided as value-mapping will have precedence in case its length matches with *x* & *y*.  Please use the *color* keyword-argument or provide a 2-D array with a single row if you intend to specify the same RGB or RGBA value for all points.\n",
            "*c* argument looks like a single numeric RGB or RGBA sequence, which should be avoided as value-mapping will have precedence in case its length matches with *x* & *y*.  Please use the *color* keyword-argument or provide a 2-D array with a single row if you intend to specify the same RGB or RGBA value for all points.\n",
            "*c* argument looks like a single numeric RGB or RGBA sequence, which should be avoided as value-mapping will have precedence in case its length matches with *x* & *y*.  Please use the *color* keyword-argument or provide a 2-D array with a single row if you intend to specify the same RGB or RGBA value for all points.\n",
            "*c* argument looks like a single numeric RGB or RGBA sequence, which should be avoided as value-mapping will have precedence in case its length matches with *x* & *y*.  Please use the *color* keyword-argument or provide a 2-D array with a single row if you intend to specify the same RGB or RGBA value for all points.\n"
          ]
        },
        {
          "output_type": "display_data",
          "data": {
            "text/plain": [
              "<Figure size 432x288 with 1 Axes>"
            ],
            "image/png": "[encoded data removed]"
          },
          "metadata": {
            "needs_background": "light"
          }
        }
      ]
    },
    {
      "cell_type": "code",
      "source": [
        "from matplotlib.colors import ListedColormap\n",
        "x_set, y_set = x_test, y_test\n",
        "x1,x2 = np.meshgrid(np.arange(start = x_set[:, 0].min()-1, stop = x_set[:, 0].max() + 1, step=0.01),\n",
        "                    np.arange(start = x_set[:, 1].min()-1, stop = x_set[:, 0].max() + 1, step=0.01))\n",
        "plt.contourf(x1,x2, classifier.predict(np.array([x1.ravel(), x2.ravel()]).T).reshape(x1.shape),\n",
        "            alpha = 0.75, cmap = ListedColormap(('blue','red')))\n",
        "plt.xlim(x1.min(), x1.max())\n",
        "plt.ylim(x2.min(), x2.max())\n",
        "for i, j in enumerate(np.unique(y_set)):\n",
        "    plt.scatter(x_set[y_set == j, 0], x_set[y_set==j,1],\n",
        "    c = ListedColormap(('blue', 'red'))(i), label = j)\n",
        "plt.title('Klasifikasi Data dengan K-NN (Test set)')\n",
        "plt.xlabel('Umur')\n",
        "plt.ylabel('Gaji')\n",
        "plt.legend()\n",
        "plt.show()"
      ],
      "metadata": {
        "colab": {
          "base_uri": "https://localhost:8080/",
          "height": 367
        },
        "id": "tQtE2XVHVueO",
        "outputId": "06b62772-0ab1-416b-be4f-6f35f2573533"
      },
      "execution_count": 17,
      "outputs": [
        {
          "output_type": "stream",
          "name": "stderr",
          "text": [
            "*c* argument looks like a single numeric RGB or RGBA sequence, which should be avoided as value-mapping will have precedence in case its length matches with *x* & *y*.  Please use the *color* keyword-argument or provide a 2-D array with a single row if you intend to specify the same RGB or RGBA value for all points.\n",
            "*c* argument looks like a single numeric RGB or RGBA sequence, which should be avoided as value-mapping will have precedence in case its length matches with *x* & *y*.  Please use the *color* keyword-argument or provide a 2-D array with a single row if you intend to specify the same RGB or RGBA value for all points.\n",
            "*c* argument looks like a single numeric RGB or RGBA sequence, which should be avoided as value-mapping will have precedence in case its length matches with *x* & *y*.  Please use the *color* keyword-argument or provide a 2-D array with a single row if you intend to specify the same RGB or RGBA value for all points.\n"
          ]
        },
        {
          "output_type": "display_data",
          "data": {
            "text/plain": [
              "<Figure size 432x288 with 1 Axes>"
            ],
            "image/png": "[encoded data removed]"
          },
          "metadata": {
            "needs_background": "light"
          }
        }
      ]
    }
  ]
}